{
 "cells": [
  {
   "cell_type": "code",
   "execution_count": 1,
   "metadata": {},
   "outputs": [
    {
     "name": "stdout",
     "output_type": "stream",
     "text": [
      "/home/ppxest/anaconda3/lib/python3.7/site-packages/astropy/extern/six.py:15: AstropyDeprecationWarning: astropy.extern.six will be removed in 4.0, use the six module directly if it is still needed\n",
      "  AstropyDeprecationWarning)\n",
      "\n"
     ]
    }
   ],
   "source": [
    "from galpy.potential import MWPotential2014, evaluateDensities, evaluateRforces, evaluateR2derivs\n",
    "from galpy.orbit import Orbit\n",
    "from galpy.util import bovy_conversion\n",
    "import numpy as np\n",
    "from scipy.constants import G, parsec, giga, year\n",
    "G *= (bovy_conversion.velocity_in_kpcGyr(220.0, 8.0)/bovy_conversion.time_in_Gyr(220.0,8.0)*1000.0*parsec)**(-3.0) * (bovy_conversion.mass_in_msol(220.0, 8.0)*(2.0*10.0**30.0)) * (bovy_conversion.time_in_Gyr(220.0,8.0)*giga*year)**(2.0)"
   ]
  },
  {
   "cell_type": "code",
   "execution_count": 2,
   "metadata": {},
   "outputs": [],
   "source": [
    "#Function to calculate Jacobi radius\n",
    "def jacobiRadius(R, z, phi, t, M_b):\n",
    "    dPhidR = -evaluateRforces(MWPotential2014, R, z, phi, t)\n",
    "    d2PhidR2 = evaluateR2derivs(MWPotential2014, R, z, phi, t)\n",
    "    return (G*M_b/R *(dPhidR/(R**2.0) - d2PhidR2/R)**(-1.0))**(1.0/3.0)"
   ]
  },
  {
   "cell_type": "code",
   "execution_count": 3,
   "metadata": {},
   "outputs": [],
   "source": [
    "#o = Orbit(vxvv=[1.,0.1,1.1,0.,0.1,0.])\n",
    "o = Orbit.from_name('NLTT 37790')\n",
    "o.turn_physical_off()\n",
    "o.flip(inplace = True)"
   ]
  },
  {
   "cell_type": "code",
   "execution_count": 4,
   "metadata": {},
   "outputs": [],
   "source": [
    "#End time in Gyr\n",
    "T = 10.0 / bovy_conversion.time_in_Gyr(220.0, 8.0)\n",
    "#Time step size\n",
    "dt = 0.1 / bovy_conversion.time_in_Gyr(220.0, 8.0)\n",
    "ts = np.arange(0, T+dt, dt, dtype=float)\n",
    "N_t = np.size(ts)"
   ]
  },
  {
   "cell_type": "code",
   "execution_count": 5,
   "metadata": {},
   "outputs": [],
   "source": [
    "#Integrate orbit\n",
    "o.integrate(ts, MWPotential2014)"
   ]
  },
  {
   "cell_type": "code",
   "execution_count": 6,
   "metadata": {},
   "outputs": [
    {
     "name": "stdout",
     "output_type": "stream",
     "text": [
      "Jacobi radius, pc = 2.984111542333582\n"
     ]
    }
   ],
   "source": [
    "#Find time corresponding to minimum R\n",
    "R_min = o.R(ts[0])\n",
    "t_min = ts[0]\n",
    "for t in ts:\n",
    "    if (o.R(t) < R_min):\n",
    "        R_min = o.R(t)\n",
    "        t_min = t\n",
    "#Calculate Jacobi radius\n",
    "r_J = jacobiRadius(o.R(t_min), o.z(t_min), o.phi(t_min), t_min, 2.0/bovy_conversion.mass_in_msol(220.0, 8.0))\n",
    "print('Jacobi radius, pc =', r_J*1000.0*bovy_conversion.velocity_in_kpcGyr(220.0, 8.0)/bovy_conversion.time_in_Gyr(220.0,8.0))"
   ]
  },
  {
   "cell_type": "code",
   "execution_count": 7,
   "metadata": {},
   "outputs": [
    {
     "name": "stdout",
     "output_type": "stream",
     "text": [
      "Average dark matter density = 0.00016457005135995964\n",
      "Average stellar density = 0.0005056493538093345\n"
     ]
    }
   ],
   "source": [
    "#Evaluate average dark matter density and stellar density\n",
    "avg_dm_density = 0.0\n",
    "avg_stellar_density = 0.0\n",
    "for i in range(N_t):\n",
    "    avg_dm_density += evaluateDensities(MWPotential2014[2], o.R(ts[i]), o.z(ts[i]), o.phi(ts[i]), ts[i])*dt/T\n",
    "    avg_stellar_density += evaluateDensities(MWPotential2014[0], o.R(ts[i]), o.z(ts[i]), o.phi(ts[i]), ts[i])*dt/T + evaluateDensities(MWPotential2014[1], o.R(ts[i]), o.z(ts[i]), o.phi(ts[i]), ts[i])*dt/T\n",
    "print('Average dark matter density =', avg_dm_density*bovy_conversion.dens_in_msolpc3(220.0, 8.0))\n",
    "print('Average stellar density =', avg_stellar_density*bovy_conversion.dens_in_msolpc3(220.0, 8.0))"
   ]
  },
  {
   "cell_type": "code",
   "execution_count": 8,
   "metadata": {},
   "outputs": [
    {
     "data": {
      "text/plain": [
       "[<matplotlib.lines.Line2D at 0x7fd49fb23cf8>]"
      ]
     },
     "execution_count": 8,
     "metadata": {},
     "output_type": "execute_result"
    },
    {
     "data": {
      "image/png": "[encoded data removed]",
      "text/plain": [
       "<Figure size 432x288 with 1 Axes>"
      ]
     },
     "metadata": {
      "needs_background": "light"
     },
     "output_type": "display_data"
    }
   ],
   "source": [
    "o.plot(vo=220.0, ro=8.0)"
   ]
  }
 ],
 "metadata": {
  "kernelspec": {
   "display_name": "Python 3",
   "language": "python",
   "name": "python3"
  },
  "language_info": {
   "codemirror_mode": {
    "name": "ipython",
    "version": 3
   },
   "file_extension": ".py",
   "mimetype": "text/x-python",
   "name": "python",
   "nbconvert_exporter": "python",
   "pygments_lexer": "ipython3",
   "version": "3.7.3"
  }
 },
 "nbformat": 4,
 "nbformat_minor": 4
}

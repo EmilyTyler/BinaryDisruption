{
 "cells": [
  {
   "cell_type": "code",
   "execution_count": 1,
   "metadata": {},
   "outputs": [
    {
     "name": "stdout",
     "output_type": "stream",
     "text": [
      "/home/ppxest/anaconda3/lib/python3.7/site-packages/astropy/extern/six.py:15: AstropyDeprecationWarning: astropy.extern.six will be removed in 4.0, use the six module directly if it is still needed\n",
      "  AstropyDeprecationWarning)\n",
      "\n"
     ]
    }
   ],
   "source": [
    "from galpy.potential import MWPotential2014, KeplerPotential, evaluateDensities, evaluateRforces, evaluateR2derivs, plotDensities, plotRotcurve, TwoPowerTriaxialPotential, NFWPotential, evaluatezforces, evaluatephiforces, evaluater2derivs, evaluaterforces, evaluateRzderivs, evaluatez2derivs\n",
    "from galpy.potential.mwpotentials import DehnenBinney98I, Irrgang13I\n",
    "from galpy.orbit import Orbit\n",
    "from galpy.util import bovy_conversion\n",
    "from galpy.util.bovy_conversion import get_physical\n",
    "from astropy import units\n",
    "from astropy.units import imperial\n",
    "imperial.enable()\n",
    "import numpy as np\n",
    "import matplotlib.pyplot as plt\n",
    "from scipy.constants import G, parsec, giga, year\n",
    "G *= (bovy_conversion.velocity_in_kpcGyr(220.0, 8.0)/bovy_conversion.time_in_Gyr(220.0,8.0)*1000.0*parsec)**(-3.0) * (bovy_conversion.mass_in_msol(220.0, 8.0)*(2.0*10.0**30.0)) * (bovy_conversion.time_in_Gyr(220.0,8.0)*giga*year)**(2.0)"
   ]
  },
  {
   "cell_type": "code",
   "execution_count": 2,
   "metadata": {},
   "outputs": [],
   "source": [
    "#Add black hole at the centre of the Galaxy\n",
    "#MWPotential2014.append(KeplerPotential(amp=4*10**6./bovy_conversion.mass_in_msol(220.,8.)))"
   ]
  },
  {
   "cell_type": "code",
   "execution_count": 3,
   "metadata": {},
   "outputs": [],
   "source": [
    "#Function to calculate Jacobi radius\n",
    "def jacobiRadius(potential, R, z, phi, t, M_b):\n",
    "    dPhidR = -evaluateRforces(potential, R, z, phi=phi, t=t)\n",
    "    d2PhidR2 = evaluateR2derivs(potential, R, z, phi=phi, t=t)\n",
    "    return (G*M_b *(dPhidR/R - d2PhidR2)**(-1.0))**(1.0/3.0)"
   ]
  },
  {
   "cell_type": "code",
   "execution_count": 4,
   "metadata": {},
   "outputs": [],
   "source": [
    "def myJacobiRadius(orbit, M_b, M_gal, e_binary):\n",
    "    return (M_b/M_gal)**(1.0/3.0)*((1.0-e_binary)/(1.0+e_binary))**(1.0/3.0)*(1.0+orbit.e())**(1.0/3.0)*orbit.rperi()"
   ]
  },
  {
   "cell_type": "code",
   "execution_count": 5,
   "metadata": {},
   "outputs": [],
   "source": [
    "#o = Orbit(vxvv=[1.,0.1,1.1,0.,0.1,0.])\n",
    "#o = Orbit.from_name('NLTT 39456', **get_physical(DehnenBinney98I))\n",
    "#o = Orbit(**get_physical(DehnenBinney98I))\n",
    "#o.turn_physical_off()\n",
    "#o.flip(inplace = True)"
   ]
  },
  {
   "cell_type": "code",
   "execution_count": 6,
   "metadata": {},
   "outputs": [],
   "source": [
    "#Integration time\n",
    "ts = np.linspace(0.,-10.0,3001)*units.Gyr\n",
    "N_t = np.size(ts)"
   ]
  },
  {
   "cell_type": "code",
   "execution_count": 7,
   "metadata": {},
   "outputs": [],
   "source": [
    "#Integrate orbit\n",
    "#o.integrate(ts, MWPotential2014)\n",
    "#o.integrate(ts, DehnenBinney98I)"
   ]
  },
  {
   "cell_type": "code",
   "execution_count": 8,
   "metadata": {},
   "outputs": [],
   "source": [
    "#o.plot(vo=220.0, ro=8.0)\n",
    "#o.plot(**get_physical(DehnenBinney98I))"
   ]
  },
  {
   "cell_type": "code",
   "execution_count": 9,
   "metadata": {},
   "outputs": [
    {
     "name": "stdout",
     "output_type": "stream",
     "text": [
      "galpyWarning: Cannot use C integration because some of the potentials are not implemented in C (using leapfrog instead)\n"
     ]
    }
   ],
   "source": [
    "#orbits = [Orbit.from_name('NLTT 10536', **get_physical(DehnenBinney98I)), Orbit.from_name('NLTT 16394', **get_physical(DehnenBinney98I)), Orbit.from_name('NLTT 39456', **get_physical(DehnenBinney98I))]\n",
    "#labels = ['NLTT 10536', 'NLTT 16394', 'NLTT 39456']\n",
    "#overp = [False, True, True]\n",
    "#xplots = ['R', 'R', 'R']\n",
    "\n",
    "#orbits = [Orbit([227.55005147436, -16.39466183454, 0.0294229, -997.999, -3542.377, 310.88], radec=True, **get_physical(DehnenBinney98I)), Orbit.from_name('NLTT 39456', **get_physical(DehnenBinney98I))]\n",
    "#labels = ['NLTT 39456 manual', 'NLTT 39456 auto']\n",
    "\n",
    "#orbits = [Orbit([049.62122952700, -07.14196049755, 0.225927, 169.224, -355.297, 152.28], radec=True, **get_physical(DehnenBinney98I)), Orbit.from_name('NLTT 10536', **get_physical(DehnenBinney98I))]\n",
    "\n",
    "#Quinn binaries\n",
    "orbits = [Orbit([49.62049, -7.14044, 0.219, 171, -353, 121.6], radec=True, **get_physical(DehnenBinney98I)), Orbit.from_name('NLTT 10536', **get_physical(DehnenBinney98I)), Orbit([85.91593, 49.38367, 0.210, 81, -176, 262.3], radec=True, **get_physical(DehnenBinney98I)), Orbit([94.91613, -30.70087, 0.348, 328, -172, 268.2], radec=True, **get_physical(DehnenBinney98I)), Orbit.from_name('NLTT 16394', **get_physical(DehnenBinney98I)), Orbit.from_name('NLTT 39456', **get_physical(DehnenBinney98I))]\n",
    "labels = ['NLTT 10536 Quinn', 'NLTT 10536 SIMBAD', 'NLTT 15501 Quinn', 'NLTT 16394 Quinn', 'NLTT 16394 SIMBAD', 'NLTT 39456 SIMBAD']\n",
    "#for orbi,label in zip(orbits,labels):\n",
    "    #print(label)\n",
    "    #print(\"r initial, kpc =\", orbi.r())\n",
    "    #print(\"v initial, km/s =\", np.sqrt(orbi.vx()**2.0 + orbi.vy()**2.0 + orbi.vz()**2.0))\n",
    "'''\n",
    "#Allen and Santillan binaries\n",
    "initial_conditions = [[8.499*units.kpc, 68.2*units.km/units.s, 131.8*units.km/units.s, -0.004*units.kpc, -29.4*units.km/units.s, 0.0*units.deg],\n",
    "                     [8.504*units.kpc, -103.7*units.km/units.s, 219.4*units.km/units.s, -0.003*units.kpc, -33.8*units.km/units.s, 0.0*units.deg],\n",
    "                     [8.501*units.kpc, -28.2*units.km/units.s, -57.1*units.km/units.s, -0.002*units.kpc, -46.4*units.km/units.s, 0.0*units.deg],\n",
    "                     [8.501*units.kpc, -54.7*units.km/units.s, 178.1*units.km/units.s, 0.002*units.kpc, -67.6*units.km/units.s, 0.0*units.deg],\n",
    "                     [8.502*units.kpc, -79.9*units.km/units.s, 171.1*units.km/units.s, 0.003*units.kpc, -71.4*units.km/units.s, 0.0*units.deg],\n",
    "                     [8.498*units.kpc, 129.4*units.km/units.s, 236.5*units.km/units.s, 0.000*units.kpc, 24.6*units.km/units.s, 0.0*units.deg],\n",
    "                     [8.499*units.kpc, 81.4*units.km/units.s, 177.5*units.km/units.s, 0.000*units.kpc, -2.2*units.km/units.s, 0.0*units.deg],\n",
    "                     [8.498*units.kpc, 68.4*units.km/units.s, 193.0*units.km/units.s, -0.003*units.kpc, 9.8*units.km/units.s, 0.0*units.deg],\n",
    "                     [8.499*units.kpc, 92.7*units.km/units.s, 216.3*units.km/units.s, -0.003*units.kpc, -50.9*units.km/units.s, 0.0*units.deg],\n",
    "                     [8.501*units.kpc, -42.5*units.km/units.s, 153.5*units.km/units.s, -0.001*units.kpc, 7.3*units.km/units.s, 0.0*units.deg],\n",
    "                     [8.474*units.kpc, -313.6*units.km/units.s, -340.6*units.km/units.s, 0.019*units.kpc, -98.4*units.km/units.s, 0.0*units.deg],\n",
    "                     [8.474*units.kpc, -321.8*units.km/units.s, -342.4*units.km/units.s, 0.019*units.kpc, -93.1*units.km/units.s, 0.0*units.deg]]\n",
    "orbits = [Orbit(ics, **get_physical(Irrgang13I)) for ics in initial_conditions]\n",
    "labels = ['GL1', 'GL166', 'GL191', 'GL411', 'GL445', 'GL699', 'GL820', 'GL845', 'GL887', 'GL905', 'LDS519A', 'LDS519B']\n",
    "'''\n",
    "\n",
    "#NLTT 16394\n",
    "#orbits = [Orbit([94.91613, -30.70087, 0.348, 328, -172, 268.2], radec=True, **get_physical(DehnenBinney98I))]\n",
    "#orbits = [Orbit([94.91613, -30.70087, 0.348, 328, -172, 268.2], radec=True, **get_physical(DehnenBinney98I)), Orbit.from_name('NLTT 16394', **get_physical(DehnenBinney98I)), Orbit([94.91613, -30.70087, 0.348, 328, -172, 134.1], radec=True, **get_physical(DehnenBinney98I)), Orbit([94.91613, -30.70087, 0.348, 328, -172, 536.4], radec=True, **get_physical(DehnenBinney98I)), Orbit([94.91613, -30.70087, 0.174, 328, -172, 268.2], radec=True, **get_physical(DehnenBinney98I)), Orbit([94.91613, -30.70087, 0.696, 328, -172, 268.2], radec=True, **get_physical(DehnenBinney98I))]\n",
    "#labels = ['NLTT 16394 Quinn', 'NLTT 16394 SIMBAD', 'NLTT 16394 IC1', 'NLTT 16394 IC3', 'NLTT 16394 IC4', 'NLTT 16394 IC6']\n",
    "\n",
    "#NLTT 15501\n",
    "#orbits = [Orbit([85.91593, 49.38367, 0.210, 81, -176, 262.3], radec=True, **get_physical(DehnenBinney98I))]\n",
    "#labels = ['NLTT 15501 Quinn']\n",
    "\n",
    "#orbits = [Orbit.from_name('NLTT 16394', **get_physical(DehnenBinney98I)), Orbit.from_name('NLTT 10536', **get_physical(DehnenBinney98I)), Orbit([49.62049, -7.14044, 0.219, 171, -353, 121.6], radec=True, **get_physical(DehnenBinney98I)), Orbit([49.62049, -7.14044, 0.219*1.1, 171, -353, 121.6], radec=True, **get_physical(DehnenBinney98I)), Orbit([49.62049, -7.14044, 0.219, 171, -353, 121.6*1.1], radec=True, **get_physical(DehnenBinney98I))]\n",
    "#labels = ['NLTT 16394 SIMBAD', 'NLTT 10536 SIMBAD', 'NLTT 10536 Quinn', 'NLTT 10536 Quinn distance*1.1', 'NLTT 10536 Quinn Vlos*1.1']\n",
    "\n",
    "#Alter initial conditions\n",
    "#orbits = [Orbit([49.62049, -7.14044, 0.219, 171, -353*1.1, 121.6], radec=True, **get_physical(DehnenBinney98I)), Orbit([85.91593, 49.38367, 0.210, 81, -176*1.1, 262.3], radec=True, **get_physical(DehnenBinney98I)), Orbit([94.91613, -30.70087, 0.348, 328, -172*1.1, 268.2], radec=True, **get_physical(DehnenBinney98I))]\n",
    "\n",
    "#orbits = [Orbit(**get_physical(DehnenBinney98I))]\n",
    "#orbits = [Orbit()]\n",
    "#labels = ['The Sun']\n",
    "\n",
    "for orbi in orbits:\n",
    "    orbi.turn_physical_off()\n",
    "    #orbi.integrate(ts, MWPotential2014)\n",
    "    orbi.integrate(ts, DehnenBinney98I)\n",
    "    #orbi.integrate(ts, Irrgang13I)"
   ]
  },
  {
   "cell_type": "code",
   "execution_count": 10,
   "metadata": {},
   "outputs": [
    {
     "ename": "NameError",
     "evalue": "name 'strongest_force_felt' is not defined",
     "output_type": "error",
     "traceback": [
      "\u001b[0;31m---------------------------------------------------------------------------\u001b[0m",
      "\u001b[0;31mNameError\u001b[0m                                 Traceback (most recent call last)",
      "\u001b[0;32m<ipython-input-10-b92204eff6a6>\u001b[0m in \u001b[0;36m<module>\u001b[0;34m\u001b[0m\n\u001b[1;32m     10\u001b[0m         \u001b[0mtotal_force\u001b[0m \u001b[0;34m=\u001b[0m \u001b[0mnp\u001b[0m\u001b[0;34m.\u001b[0m\u001b[0msqrt\u001b[0m\u001b[0;34m(\u001b[0m\u001b[0mR_force\u001b[0m\u001b[0;34m**\u001b[0m\u001b[0;36m2.0\u001b[0m \u001b[0;34m+\u001b[0m \u001b[0mz_force\u001b[0m\u001b[0;34m**\u001b[0m\u001b[0;36m2.0\u001b[0m \u001b[0;34m+\u001b[0m \u001b[0mphi_force\u001b[0m\u001b[0;34m**\u001b[0m\u001b[0;36m2.0\u001b[0m\u001b[0;34m)\u001b[0m\u001b[0;34m\u001b[0m\u001b[0;34m\u001b[0m\u001b[0m\n\u001b[1;32m     11\u001b[0m         \u001b[0mtotal_angular_force\u001b[0m \u001b[0;34m=\u001b[0m \u001b[0mnp\u001b[0m\u001b[0;34m.\u001b[0m\u001b[0msqrt\u001b[0m\u001b[0;34m(\u001b[0m\u001b[0mtotal_force\u001b[0m\u001b[0;34m**\u001b[0m\u001b[0;36m2.0\u001b[0m \u001b[0;34m-\u001b[0m \u001b[0mr_force\u001b[0m\u001b[0;34m**\u001b[0m\u001b[0;36m2.0\u001b[0m\u001b[0;34m)\u001b[0m\u001b[0;34m\u001b[0m\u001b[0;34m\u001b[0m\u001b[0m\n\u001b[0;32m---> 12\u001b[0;31m         \u001b[0mstrongest_difference_in_force_felt\u001b[0m \u001b[0;34m=\u001b[0m \u001b[0mmax\u001b[0m\u001b[0;34m(\u001b[0m\u001b[0mtotal_force\u001b[0m\u001b[0;34m,\u001b[0m \u001b[0mstrongest_force_felt\u001b[0m\u001b[0;34m)\u001b[0m\u001b[0;34m\u001b[0m\u001b[0;34m\u001b[0m\u001b[0m\n\u001b[0m\u001b[1;32m     13\u001b[0m     \u001b[0mprint\u001b[0m\u001b[0;34m(\u001b[0m\u001b[0ml\u001b[0m\u001b[0;34m)\u001b[0m\u001b[0;34m\u001b[0m\u001b[0;34m\u001b[0m\u001b[0m\n\u001b[1;32m     14\u001b[0m     \u001b[0mprint\u001b[0m\u001b[0;34m(\u001b[0m\u001b[0;34m\"Strongest Galactic force felt, km/s/Myr =\"\u001b[0m\u001b[0;34m,\u001b[0m \u001b[0mstrongest_difference_in_force_felt\u001b[0m\u001b[0;34m*\u001b[0m\u001b[0mbovy_conversion\u001b[0m\u001b[0;34m.\u001b[0m\u001b[0mforce_in_kmsMyr\u001b[0m\u001b[0;34m(\u001b[0m\u001b[0;36m220.\u001b[0m\u001b[0;34m,\u001b[0m\u001b[0;36m8.\u001b[0m\u001b[0;34m)\u001b[0m\u001b[0;34m)\u001b[0m\u001b[0;34m\u001b[0m\u001b[0;34m\u001b[0m\u001b[0m\n",
      "\u001b[0;31mNameError\u001b[0m: name 'strongest_force_felt' is not defined"
     ]
    }
   ],
   "source": [
    "#Find strongest Galactic force felt by star\n",
    "pot = MWPotential2014\n",
    "for o,l in zip(orbits, labels):\n",
    "    strongest_difference_in_force_felt = 0.0\n",
    "    for i in range(N_t):\n",
    "        R_force = evaluateRforces(pot, o.R(t=ts[i]), o.z(t=ts[i]), phi=o.phi(t=ts[i]), t=ts[i])\n",
    "        z_force = evaluatezforces(pot, o.R(t=ts[i]), o.z(t=ts[i]), phi=o.phi(t=ts[i]), t=ts[i])\n",
    "        phi_force = evaluatephiforces(pot, o.R(t=ts[i]), o.z(t=ts[i]), phi=o.phi(t=ts[i]), t=ts[i])\n",
    "        r_force = evaluaterforces(pot, o.R(t=ts[i]), o.z(t=ts[i]), phi=o.phi(t=ts[i]), t=ts[i])\n",
    "        total_force = np.sqrt(R_force**2.0 + z_force**2.0 + phi_force**2.0)\n",
    "        total_angular_force = np.sqrt(total_force**2.0 - r_force**2.0)\n",
    "        strongest_difference_in_force_felt = max(total_force, strongest_force_felt)\n",
    "    print(l)\n",
    "    print(\"Strongest Galactic force felt, km/s/Myr =\", strongest_difference_in_force_felt*bovy_conversion.force_in_kmsMyr(220.,8.))\n",
    "    print(\"Strongest Galactic force felt, km/s/Myr =\", strongest_difference_in_force_felt)"
   ]
  },
  {
   "cell_type": "code",
   "execution_count": null,
   "metadata": {},
   "outputs": [],
   "source": [
    "#Strongest difference in force between the two stars\n",
    "pot = MWPotential2014\n",
    "r_bin = np.array([10.0, 0.0, 0.0])/(1000.0*bovy_conversion.velocity_in_kpcGyr(220.0, 8.0)/bovy_conversion.time_in_Gyr(220.0,8.0))\n",
    "for o,l in zip(orbits,labels):\n",
    "    strongest_difference_in_force = 0.0\n",
    "    for i in range(N_t):\n",
    "        R2derivs = evaluateR2derivs(pot, o.R(t=ts[i]), o.z(t=ts[i]), phi=o.phi(t=ts[i]), t=ts[i])\n",
    "        Rzderivs = evaluateRzderivs(pot, o.R(t=ts[i]), o.z(t=ts[i]), phi=o.phi(t=ts[i]), t=ts[i])\n",
    "        z2derivs = evaluatez2derivs(pot, o.R(t=ts[i]), o.z(t=ts[i]), phi=o.phi(t=ts[i]), t=ts[i])\n",
    "        difference_in_force = np.sqrt((r_bin[0]*R2derivs + r_bin[2]*Rzderivs)**2.0 + (r_bin[0]*Rzderivs + r_bin[2]*z2derivs)**2.0)\n",
    "        strongest_difference_in_force = max(strongest_difference_in_force, difference_in_force)\n",
    "    print(l)\n",
    "    print(\"Strongest difference in force =\", strongest_difference_in_force*bovy_conversion.force_in_kmsMyr(220.,8.))\n",
    "    print(\"Strongest difference in force =\", strongest_difference_in_force)"
   ]
  },
  {
   "cell_type": "code",
   "execution_count": null,
   "metadata": {},
   "outputs": [],
   "source": [
    "#Find time corresponding to minimum R\n",
    "for o,l in zip(orbits,labels):\n",
    "    R_min = o.R(t=ts[0])\n",
    "    t_min = ts[0]\n",
    "    for t in ts:\n",
    "        if (o.R(t=t) < R_min):\n",
    "            R_min = o.R(t=t)\n",
    "            t_min = t\n",
    "    #Calculate Jacobi radius\n",
    "    r_J = jacobiRadius(MWPotential2014, o.Rnd (t=t_min), o.z(t=t_min), o.phi(t=t_min), t_min, 2.0/bovy_conversion.mass_in_msol(220.0, 8.0))\n",
    "    print(l)\n",
    "    print(\"r_peri =\", o.rperi())\n",
    "    print('e_gal =', o.e())\n",
    "    print('Jacobi radius, pc =', r_J*1000.0*bovy_conversion.velocity_in_kpcGyr(220.0, 8.0)/bovy_conversion.time_in_Gyr(220.0,8.0))\n",
    "    print('My Jacobi radius, pc = ', myJacobiRadius(o, 2.0/bovy_conversion.mass_in_msol(220.0, 8.0), 10.0**11.0/bovy_conversion.mass_in_msol(220.0, 8.0), 0.7)*1000.0)"
   ]
  },
  {
   "cell_type": "code",
   "execution_count": null,
   "metadata": {},
   "outputs": [],
   "source": [
    "#Evaluate average dark matter density and stellar density\n",
    "#db = DehnenBinney98I\n",
    "#db = [x.turn_physical_on(**get_physical(DehnenBinney98I)) for x in DehnenBinney98I]\n",
    "#plotDensities(Pot=db, rmin = 0.1*units.kpc, rmax=1.5*units.kpc, zmin=-0.5*units.kpc, zmax=0.5*units.kpc)\n",
    "#plt.show()\n",
    "for orbi,label in zip(orbits,labels):\n",
    "    avg_dm_density = 0.0\n",
    "    avg_stellar_density = 0.0\n",
    "    #orbi.turn_physical_on(**get_physical(MWPotential2014))\n",
    "    for i in range(N_t):\n",
    "        #avg_dm_density += evaluateDensities(MWPotential2014[2], orbi.R(t=ts[i]), orbi.z(t=ts[i]), phi=orbi.phi(t=ts[i]), t=ts[i])/N_t*bovy_conversion.dens_in_msolpc3(220.0, 8.0)\n",
    "        #avg_stellar_density += evaluateDensities(MWPotential2014[0], orbi.R(t=ts[i]), orbi.z(t=ts[i]), phi=orbi.phi(t=ts[i]), t=ts[i])/N_t + evaluateDensities(MWPotential2014[1], orbi.R(t=ts[i]), orbi.z(t=ts[i]), phi=orbi.phi(t=ts[i]), t=ts[i])/N_t*bovy_conversion.dens_in_msolpc3(220.0, 8.0)\n",
    "        avg_dm_density += evaluateDensities(DehnenBinney98I[2], orbi.R(t=ts[i], **get_physical(DehnenBinney98I)), orbi.z(t=ts[i], **get_physical(DehnenBinney98I)), phi=orbi.phi(t=ts[i], **get_physical(DehnenBinney98I)), t=ts[i])/N_t\n",
    "        avg_stellar_density += evaluateDensities(DehnenBinney98I[0], orbi.R(t=ts[i], **get_physical(DehnenBinney98I)), orbi.z(t=ts[i], **get_physical(DehnenBinney98I)), phi=orbi.phi(t=ts[i], **get_physical(DehnenBinney98I)), t=ts[i])/N_t + evaluateDensities(DehnenBinney98I[1], orbi.R(t=ts[i], **get_physical(DehnenBinney98I)), orbi.z(t=ts[i], **get_physical(DehnenBinney98I)), phi=orbi.phi(t=ts[i], **get_physical(DehnenBinney98I)), t=ts[i])/N_t\n",
    "        #avg_dm_density += evaluateDensities(Irrgang13I[2], orbi.R(t=ts[i], **get_physical(Irrgang13I)), orbi.z(t=ts[i], **get_physical(Irrgang13I)), phi=orbi.phi(t=ts[i], **get_physical(Irrgang13I)), t=ts[i])/N_t\n",
    "        #avg_stellar_density += evaluateDensities(Irrgang13I[0], orbi.R(t=ts[i], **get_physical(Irrgang13I)), orbi.z(t=ts[i], **get_physical(Irrgang13I)), phi=orbi.phi(t=ts[i], **get_physical(Irrgang13I)), t=ts[i])/N_t + evaluateDensities(Irrgang13I[1], orbi.R(t=ts[i], **get_physical(Irrgang13I)), orbi.z(t=ts[i], **get_physical(Irrgang13I)), phi=orbi.phi(t=ts[i], **get_physical(Irrgang13I)), t=ts[i])/N_t\n",
    "    print(label)\n",
    "    print('Average dark matter density =', avg_dm_density)\n",
    "    print('Average stellar density =', avg_stellar_density)"
   ]
  },
  {
   "cell_type": "code",
   "execution_count": null,
   "metadata": {},
   "outputs": [],
   "source": [
    "#labels = ['NLTT 10536 Quinn', 'NLTT 10536 SIMBAD', 'NLTT 15501 Quinn', 'NLTT 16394 Quinn', 'NLTT 16394 SIMBAD', 'NLTT 39456 SIMBAD']\n",
    "#labels = ['NLTT 10536 Quinn', 'NLTT 15501 Quinn', 'NLTT 16394 Quinn']\n",
    "#overp = [False, True, True, True, True, True]\n",
    "#xplots = ['R', 'R', '-R', 'R', 'R', 'R']\n",
    "\n",
    "#print([orbits[4].ra(**get_physical(DehnenBinney98I)), orbits[4].dec(**get_physical(DehnenBinney98I)), orbits[4].dist(**get_physical(DehnenBinney98I)), orbits[4].pmra(**get_physical(DehnenBinney98I)), orbits[4].pmdec(**get_physical(DehnenBinney98I)), orbits[5].vlos(**get_physical(DehnenBinney98I))])\n",
    "'''\n",
    "for orbi,label,over,xplot in zip(orbits,labels,overp,xplots):\n",
    "    if (label=='NLTT 39456 SIMBAD'):\n",
    "        orbi.plot(d1=xplot, d2='z', **get_physical(DehnenBinney98I), overplot=over, label=label, lw=0.4)\n",
    "plt.legend()\n",
    "#plt.axis([-40, 80, -50, 40])\n",
    "'''"
   ]
  },
  {
   "cell_type": "code",
   "execution_count": null,
   "metadata": {},
   "outputs": [],
   "source": [
    "#labels = ['NLTT 10536 Quinn', 'NLTT 10536 SIMBAD', 'NLTT 15501 Quinn', 'NLTT 16394 Quinn', 'NLTT 16394 SIMBAD', 'NLTT 39456 SIMBAD']\n",
    "#labels = ['NLTT 10536 Quinn', 'NLTT 15501 Quinn', 'NLTT 16394 Quinn']\n",
    "#overp = [False, True, True, True, True, True]\n",
    "#xplots = ['R', 'R', '-R', 'R', 'R', 'R']\n",
    "overp = [True]*len(orbits)\n",
    "overp[0] = False\n",
    "\n",
    "#print([orbits[4].ra(**get_physical(DehnenBinney98I)), orbits[4].dec(**get_physical(DehnenBinney98I)), orbits[4].dist(**get_physical(DehnenBinney98I)), orbits[4].pmra(**get_physical(DehnenBinney98I)), orbits[4].pmdec(**get_physical(DehnenBinney98I)), orbits[5].vlos(**get_physical(DehnenBinney98I))])\n",
    "\n",
    "for orbi,label,over in zip(orbits,labels,overp):\n",
    "    #if (label=='NLTT 10536 Quinn'):\n",
    "    #orbi.plot(d1=xplot, d2='z', **get_physical(DehnenBinney98I), overplot=over, label=label, lw=0.4)\n",
    "    orbi.plot(d1='R', d2='z', **get_physical(DehnenBinney98I), overplot=over, label=label, lw=0.4)\n",
    "    plt.legend()\n",
    "    plt.show()\n",
    "    orbi.turn_physical_on(**get_physical(DehnenBinney98I))\n",
    "    print('Orbital parameters:')\n",
    "    #print('Energy, 100km^2 s^-2 =', orbi.E()/100.0)\n",
    "    #print('Total angular Momentum, 10km kpc s^-1 =', np.sqrt(orbi.L()[0]**2.0 + orbi.L()[1]**2.0 + orbi.L()[2]**2.0)/10.0)\n",
    "    print('Pericenter distance, kpc =', orbi.rperi())\n",
    "    print('Maximum z, kpc =', orbi.zmax())\n",
    "    print('Apocentre distance, kpc =', orbi.rap())\n",
    "    #print('Eccentricity =', orbi.e())\n",
    "    #print(orbi.R())\n",
    "    #for i in range(N_t):\n",
    "        #print(ts[i])\n",
    "        #print(orbi.x(t=ts[i]))\n",
    "        #if (orbi.x(t=ts[i]) > 10.0):\n",
    "            #print(\"yaaasss\")\n",
    "#plt.axis([-40, 80, -50, 40])"
   ]
  },
  {
   "cell_type": "code",
   "execution_count": null,
   "metadata": {},
   "outputs": [],
   "source": [
    "plotRotcurve(MWPotential2014[2],label='MWPotential2014',ro=8.,vo=220.) # need to set ro and vo explicitly, because MWPotential2014 has units turned off\n",
    "plotRotcurve(DehnenBinney98I[2],overplot=True,label='DehnenBinney98I')\n",
    "#plotRotcurve(Irrgang13I,overplot=True,label='AllenSantillan91')\n",
    "plt.legend()"
   ]
  },
  {
   "cell_type": "code",
   "execution_count": null,
   "metadata": {},
   "outputs": [],
   "source": [
    "ro= 8.0*units.kpc\n",
    "vo= 222.*units.km/units.s\n",
    "rho0_halo= 0.7110*units.solMass/(units.parsec)**3.0\n",
    "alpha_halo= -2.\n",
    "beta_halo= 2.959\n",
    "r0_halo= 3.83*units.kpc\n",
    "q_halo= 0.8\n",
    "amp=rho0_halo*(4*np.pi*(r0_halo)**3)\n",
    "DB98_halo = TwoPowerTriaxialPotential(amp=amp,\n",
    "                                         alpha=alpha_halo,beta=beta_halo,\n",
    "                                         a=r0_halo,ro=ro,vo=vo,c=q_halo)\n",
    "DB98_halo.turn_physical_on(ro=ro, vo=vo)\n",
    "MW2014_halo = NFWPotential(a=2.,normalize=0.35)\n",
    "MW2014_halo.turn_physical_on(ro=8., vo=220.)\n",
    "#DB98_halo.plotDensity(phi=0.)\n",
    "#MW2014_halo.plotDensity(phi=0.0)\n",
    "print(MW2014_halo.dens(8.0,0.0))\n",
    "print(DB98_halo.dens(8.0,0.0))"
   ]
  },
  {
   "cell_type": "code",
   "execution_count": null,
   "metadata": {},
   "outputs": [],
   "source": []
  },
  {
   "cell_type": "code",
   "execution_count": null,
   "metadata": {},
   "outputs": [],
   "source": []
  }
 ],
 "metadata": {
  "kernelspec": {
   "display_name": "Python 3",
   "language": "python",
   "name": "python3"
  },
  "language_info": {
   "codemirror_mode": {
    "name": "ipython",
    "version": 3
   },
   "file_extension": ".py",
   "mimetype": "text/x-python",
   "name": "python",
   "nbconvert_exporter": "python",
   "pygments_lexer": "ipython3",
   "version": "3.7.3"
  }
 },
 "nbformat": 4,
 "nbformat_minor": 4
}

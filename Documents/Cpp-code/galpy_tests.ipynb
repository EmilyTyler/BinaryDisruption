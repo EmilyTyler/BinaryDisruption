{
 "cells": [
  {
   "cell_type": "code",
   "execution_count": 1,
   "metadata": {},
   "outputs": [
    {
     "name": "stdout",
     "output_type": "stream",
     "text": [
      "/home/ppxest/anaconda3/lib/python3.7/site-packages/astropy/extern/six.py:15: AstropyDeprecationWarning: astropy.extern.six will be removed in 4.0, use the six module directly if it is still needed\n",
      "  AstropyDeprecationWarning)\n",
      "\n"
     ]
    }
   ],
   "source": [
    "from galpy.potential import MWPotential2014, KeplerPotential, evaluateDensities, evaluateRforces, evaluateR2derivs\n",
    "from galpy.potential.mwpotentials import DehnenBinney98I\n",
    "from galpy.orbit import Orbit\n",
    "from galpy.util import bovy_conversion\n",
    "from galpy.util.bovy_conversion import get_physical\n",
    "from astropy import units\n",
    "from astropy.units import imperial\n",
    "imperial.enable()\n",
    "import numpy as np\n",
    "import matplotlib.pyplot as plt\n",
    "from scipy.constants import G, parsec, giga, year\n",
    "G *= (bovy_conversion.velocity_in_kpcGyr(220.0, 8.0)/bovy_conversion.time_in_Gyr(220.0,8.0)*1000.0*parsec)**(-3.0) * (bovy_conversion.mass_in_msol(220.0, 8.0)*(2.0*10.0**30.0)) * (bovy_conversion.time_in_Gyr(220.0,8.0)*giga*year)**(2.0)"
   ]
  },
  {
   "cell_type": "code",
   "execution_count": 2,
   "metadata": {},
   "outputs": [],
   "source": [
    "#Add black hole at the centre of the Galaxy\n",
    "#MWPotential2014.append(KeplerPotential(amp=4*10**6./bovy_conversion.mass_in_msol(220.,8.)))"
   ]
  },
  {
   "cell_type": "code",
   "execution_count": 3,
   "metadata": {},
   "outputs": [],
   "source": [
    "#Function to calculate Jacobi radius\n",
    "def jacobiRadius(potential, R, z, phi, t, M_b):\n",
    "    dPhidR = -evaluateRforces(potential, R, z, phi, t)\n",
    "    d2PhidR2 = evaluateR2derivs(potential, R, z, phi, t)\n",
    "    return (G*M_b/R *(dPhidR/(R**2.0) - d2PhidR2/R)**(-1.0))**(1.0/3.0)"
   ]
  },
  {
   "cell_type": "code",
   "execution_count": 4,
   "metadata": {},
   "outputs": [],
   "source": [
    "#o = Orbit(vxvv=[1.,0.1,1.1,0.,0.1,0.])\n",
    "#o = Orbit.from_name('NLTT 39456', **get_physical(DehnenBinney98I))\n",
    "#o = Orbit(**get_physical(DehnenBinney98I))\n",
    "#o.turn_physical_off()\n",
    "#o.flip(inplace = True)"
   ]
  },
  {
   "cell_type": "code",
   "execution_count": 5,
   "metadata": {},
   "outputs": [],
   "source": [
    "#Integration time\n",
    "ts = np.linspace(0.,-10.0,2001)*units.Gyr\n",
    "N_t = np.size(ts)"
   ]
  },
  {
   "cell_type": "code",
   "execution_count": 6,
   "metadata": {},
   "outputs": [],
   "source": [
    "#Integrate orbit\n",
    "#o.integrate(ts, MWPotential2014)\n",
    "#o.integrate(ts, DehnenBinney98I)"
   ]
  },
  {
   "cell_type": "code",
   "execution_count": 7,
   "metadata": {},
   "outputs": [],
   "source": [
    "#Find time corresponding to minimum R\n",
    "#R_min = o.R(ts[0])\n",
    "#t_min = ts[0]\n",
    "#for t in ts:\n",
    "#    if (o.R(t) < R_min):\n",
    "#        R_min = o.R(t)\n",
    "#        t_min = t\n",
    "#Calculate Jacobi radius\n",
    "#r_J = jacobiRadius(DehnenBinney98I, o.R(t_min), o.z(t_min), o.phi(t_min), t_min, 2.0/bovy_conversion.mass_in_msol(220.0, 8.0))\n",
    "#r_J = jacobiRadius(DehnenBinney98I, o.R(), o.z(), o.phi(), 0, 2.0/bovy_conversion.mass_in_msol(220.0, 8.0))\n",
    "#print('Jacobi radius, pc =', r_J*1000.0*bovy_conversion.velocity_in_kpcGyr(220.0, 8.0)/bovy_conversion.time_in_Gyr(220.0,8.0))"
   ]
  },
  {
   "cell_type": "code",
   "execution_count": 8,
   "metadata": {},
   "outputs": [],
   "source": [
    "#Evaluate average dark matter density and stellar density\n",
    "#avg_dm_density = 0.0\n",
    "#avg_stellar_density = 0.0\n",
    "#for i in range(N_t):\n",
    "#    avg_dm_density += evaluateDensities(MWPotential2014[2], o.R(ts[i]), o.z(ts[i]), o.phi(ts[i]), ts[i])*dt/T\n",
    "#    avg_stellar_density += evaluateDensities(MWPotential2014[0], o.R(ts[i]), o.z(ts[i]), o.phi(ts[i]), ts[i])*dt/T + evaluateDensities(MWPotential2014[1], o.R(ts[i]), o.z(ts[i]), o.phi(ts[i]), ts[i])*dt/T\n",
    "#print('Average dark matter density =', avg_dm_density*bovy_conversion.dens_in_msolpc3(220.0, 8.0))\n",
    "#print('Average stellar density =', avg_stellar_density*bovy_conversion.dens_in_msolpc3(220.0, 8.0))"
   ]
  },
  {
   "cell_type": "code",
   "execution_count": 9,
   "metadata": {},
   "outputs": [],
   "source": [
    "#o.plot(vo=220.0, ro=8.0)\n",
    "#o.plot(**get_physical(DehnenBinney98I))"
   ]
  },
  {
   "cell_type": "code",
   "execution_count": 10,
   "metadata": {},
   "outputs": [
    {
     "name": "stdout",
     "output_type": "stream",
     "text": [
      "galpyWarning: Cannot use C integration because some of the potentials are not implemented in C (using leapfrog instead)\n"
     ]
    }
   ],
   "source": [
    "#orbits = [Orbit.from_name('NLTT 10536', **get_physical(DehnenBinney98I)), Orbit.from_name('NLTT 16394', **get_physical(DehnenBinney98I)), Orbit.from_name('NLTT 39456', **get_physical(DehnenBinney98I))]\n",
    "#labels = ['NLTT 10536', 'NLTT 16394', 'NLTT 39456']\n",
    "#overp = [False, True, True]\n",
    "#xplots = ['R', 'R', 'R']\n",
    "\n",
    "#orbits = [Orbit([227.55005147436, -16.39466183454, 0.0294229, -997.999, -3542.377, 310.88], radec=True, **get_physical(DehnenBinney98I)), Orbit.from_name('NLTT 39456', **get_physical(DehnenBinney98I))]\n",
    "#labels = ['NLTT 39456 manual', 'NLTT 39456 auto']\n",
    "\n",
    "#orbits = [Orbit([049.62122952700, -07.14196049755, 0.225927, 169.224, -355.297, 152.28], radec=True, **get_physical(DehnenBinney98I)), Orbit.from_name('NLTT 10536', **get_physical(DehnenBinney98I))]\n",
    "\n",
    "orbits = [Orbit([49.62049, -7.14044, 0.219, 171, -353, 121.6], radec=True, **get_physical(DehnenBinney98I)), Orbit.from_name('NLTT 10536', **get_physical(DehnenBinney98I)), Orbit([85.91593, 49.38367, 0.210, 81, -176, 262.3], radec=True, **get_physical(DehnenBinney98I)), Orbit([94.91613, -30.70087, 0.348, 328, -172, 268.2], radec=True, **get_physical(DehnenBinney98I)), Orbit.from_name('NLTT 16394', **get_physical(DehnenBinney98I)), Orbit.from_name('NLTT 39456', **get_physical(DehnenBinney98I))]\n",
    "\n",
    "for orbi in orbits:\n",
    "    orbi.turn_physical_off()\n",
    "    orbi.integrate(ts, DehnenBinney98I)"
   ]
  },
  {
   "cell_type": "code",
   "execution_count": 22,
   "metadata": {},
   "outputs": [
    {
     "data": {
      "text/plain": [
       "[-40, 80, -50, 40]"
      ]
     },
     "execution_count": 22,
     "metadata": {},
     "output_type": "execute_result"
    },
    {
     "data": {
      "image/png": "[encoded data removed]",
      "text/plain": [
       "<Figure size 432x288 with 1 Axes>"
      ]
     },
     "metadata": {
      "needs_background": "light"
     },
     "output_type": "display_data"
    }
   ],
   "source": [
    "labels = ['NLTT 10536 Quinn', 'NLTT 10536 SIMBAD', 'NLTT 15501 Quinn', 'NLTT 16394 Quinn', 'NLTT 16394 SIMBAD', 'NLTT 39456 SIMBAD']\n",
    "overp = [False, True, True, True, True, True]\n",
    "xplots = ['R', 'R', '-R', 'R', 'R', 'R']\n",
    "\n",
    "for orbi,label,over,xplot in zip(orbits,labels,overp,xplots):\n",
    "    #if (label=='NLTT 39456 auto'):\n",
    "    orbi.plot(d1=xplot, d2='z', **get_physical(DehnenBinney98I), overplot=over, label=label, lw=0.4)\n",
    "plt.legend()\n",
    "plt.axis([-40, 80, -50, 40])\n",
    "#plt.axis([-40,0,-10,10])"
   ]
  },
  {
   "cell_type": "code",
   "execution_count": null,
   "metadata": {},
   "outputs": [],
   "source": []
  }
 ],
 "metadata": {
  "kernelspec": {
   "display_name": "Python 3",
   "language": "python",
   "name": "python3"
  },
  "language_info": {
   "codemirror_mode": {
    "name": "ipython",
    "version": 3
   },
   "file_extension": ".py",
   "mimetype": "text/x-python",
   "name": "python",
   "nbconvert_exporter": "python",
   "pygments_lexer": "ipython3",
   "version": "3.7.3"
  }
 },
 "nbformat": 4,
 "nbformat_minor": 4
}
